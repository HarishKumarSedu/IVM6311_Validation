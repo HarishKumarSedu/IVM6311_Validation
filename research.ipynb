{
 "cells": [
  {
   "cell_type": "markdown",
   "metadata": {},
   "source": [
    "# Temperature data combine file "
   ]
  },
  {
   "cell_type": "code",
   "execution_count": 238,
   "metadata": {},
   "outputs": [],
   "source": [
    "import pandas as pd \n",
    "from tqdm import tqdm"
   ]
  },
  {
   "cell_type": "code",
   "execution_count": 239,
   "metadata": {},
   "outputs": [
    {
     "data": {
      "text/plain": [
       "{-40: 'BandgapCurve_-40C.csv',\n",
       " -30: 'BandgapCurve_-30C.csv',\n",
       " -20: 'BandgapCurve_-20C.csv',\n",
       " -10: 'BandgapCurve_-10C.csv',\n",
       " 0: 'BandgapCurve_0C.csv',\n",
       " 10: 'BandgapCurve_10C.csv',\n",
       " 20: 'BandgapCurve_20C.csv',\n",
       " 30: 'BandgapCurve_30C.csv',\n",
       " 40: 'BandgapCurve_40C.csv',\n",
       " 50: 'BandgapCurve_50C.csv',\n",
       " 60: 'BandgapCurve_60C.csv',\n",
       " 70: 'BandgapCurve_70C.csv',\n",
       " 80: 'BandgapCurve_80C.csv',\n",
       " 90: 'BandgapCurve_90C.csv',\n",
       " 100: 'BandgapCurve_100C.csv',\n",
       " 110: 'BandgapCurve_110C.csv',\n",
       " 120: 'BandgapCurve_120C.csv',\n",
       " 125: 'BandgapCurve_125C.csv'}"
      ]
     },
     "execution_count": 239,
     "metadata": {},
     "output_type": "execute_result"
    }
   ],
   "source": [
    "devicePath = 'measurements\\BandGapCurve\\Device2'\n",
    "test_data = pd.read_csv('measurements\\BandGapCurve\\Device3\\BandgapCurve_125C.csv')\n",
    "data = pd.DataFrame()\n",
    "# data['125'] = test_data['BandGapValue']\n",
    "import os \n",
    "from os import listdir\n",
    "from os.path import isfile, join\n",
    "import re \n",
    "datafiles = {int(re.findall(r'[+-]?[0-9]+',f)[0]):f for f in listdir(devicePath) if isfile(join(devicePath, f)) if re.match('BandgapCurve_', f )}\n",
    "# [ filename for filename in onlyfiles if re.match('BandgapCurve_', filename )]\n",
    "datafiles = dict(sorted(datafiles.items()))\n",
    "datafiles"
   ]
  },
  {
   "cell_type": "code",
   "execution_count": 240,
   "metadata": {},
   "outputs": [
    {
     "name": "stderr",
     "output_type": "stream",
     "text": [
      "100%|██████████| 18/18 [00:00<00:00, 546.89it/s]\n"
     ]
    }
   ],
   "source": [
    "for temperature, file in tqdm(datafiles.items()):\n",
    "    tempdata = pd.read_csv(os.path.join(devicePath, file))\n",
    "    data[temperature] = tempdata['BandGapValue']\n",
    "    # data[f'error_percentage@{temperature}C'] = tempdata['error_percentage']"
   ]
  },
  {
   "cell_type": "code",
   "execution_count": 241,
   "metadata": {},
   "outputs": [],
   "source": [
    "data.index = [f'{i}c' for i  in data.index]\n",
    "data['min'] = data.min(axis=1)\n",
    "data['max'] = data.max(axis=1)\n",
    "data['delta'] = data['max']-data['min']\n",
    "data['delta_min'] = data['delta'].min()\n",
    "data['delta - delta_min'] = data['delta'] - data['delta_min']\n",
    "\n",
    "data = data.transpose()\n",
    "data.index.name = 'temperature'\n",
    "data.to_csv(os.path.join(devicePath,'BandgapCurve.csv'))"
   ]
  }
 ],
 "metadata": {
  "kernelspec": {
   "display_name": "env",
   "language": "python",
   "name": "python3"
  },
  "language_info": {
   "codemirror_mode": {
    "name": "ipython",
    "version": 3
   },
   "file_extension": ".py",
   "mimetype": "text/x-python",
   "name": "python",
   "nbconvert_exporter": "python",
   "pygments_lexer": "ipython3",
   "version": "3.11.5"
  }
 },
 "nbformat": 4,
 "nbformat_minor": 2
}
