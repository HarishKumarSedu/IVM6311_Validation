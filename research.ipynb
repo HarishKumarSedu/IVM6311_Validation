{
 "cells": [
  {
   "cell_type": "markdown",
   "metadata": {},
   "source": [
    "# Temperature data combine file "
   ]
  },
  {
   "cell_type": "code",
   "execution_count": 9,
   "metadata": {},
   "outputs": [],
   "source": [
    "import pandas as pd \n",
    "from tqdm import tqdm"
   ]
  },
  {
   "cell_type": "code",
   "execution_count": 10,
   "metadata": {},
   "outputs": [
    {
     "name": "stdout",
     "output_type": "stream",
     "text": [
      "120\n",
      "110\n",
      "100\n",
      "90\n",
      "80\n",
      "70\n",
      "60\n",
      "50\n",
      "40\n",
      "30\n",
      "20\n",
      "10\n",
      "0\n",
      "-10\n",
      "-20\n",
      "-30\n",
      "-40\n"
     ]
    }
   ],
   "source": [
    "for temp in range(120,-50,-10):\n",
    "    print(temp)"
   ]
  },
  {
   "cell_type": "code",
   "execution_count": 17,
   "metadata": {},
   "outputs": [],
   "source": [
    "data = pd.read_csv('measurements\\TempBandgap\\Bandgap_125C.csv')\n",
    "data.rename(columns={'BandGapValue':'125','error_percentage':'error_percentage@125C'}, inplace=True)"
   ]
  },
  {
   "cell_type": "code",
   "execution_count": 18,
   "metadata": {},
   "outputs": [
    {
     "name": "stderr",
     "output_type": "stream",
     "text": [
      "100%|██████████| 17/17 [00:00<00:00, 568.48it/s]\n"
     ]
    }
   ],
   "source": [
    "for temperature in tqdm(range(120,-50,-10)):\n",
    "    tempdata = pd.read_csv(f'measurements\\TempBandgap\\Bandgap_{temperature}C.csv')\n",
    "    data[f'{temperature}C'] = tempdata['BandGapValue']\n",
    "    # data[f'error_percentage@{temperature}C'] = tempdata['error_percentage']"
   ]
  },
  {
   "cell_type": "code",
   "execution_count": 19,
   "metadata": {},
   "outputs": [],
   "source": [
    "data.to_csv('measurements\\TempBandgap\\Device1_TempBandgap.csv')"
   ]
  },
  {
   "cell_type": "code",
   "execution_count": null,
   "metadata": {},
   "outputs": [],
   "source": []
  }
 ],
 "metadata": {
  "kernelspec": {
   "display_name": "env",
   "language": "python",
   "name": "python3"
  },
  "language_info": {
   "codemirror_mode": {
    "name": "ipython",
    "version": 3
   },
   "file_extension": ".py",
   "mimetype": "text/x-python",
   "name": "python",
   "nbconvert_exporter": "python",
   "pygments_lexer": "ipython3",
   "version": "3.11.5"
  }
 },
 "nbformat": 4,
 "nbformat_minor": 2
}
